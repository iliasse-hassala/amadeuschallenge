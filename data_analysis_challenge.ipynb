{
 "metadata": {
  "name": "",
  "signature": "sha256:6f11dc857c78303af12c83f77b2df245e31c384831f79c42c7251e4cfed8502b"
 },
 "nbformat": 3,
 "nbformat_minor": 0,
 "worksheets": [
  {
   "cells": [
    {
     "cell_type": "code",
     "collapsed": false,
     "input": [
      "%load data_analysis_challenge.py"
     ],
     "language": "python",
     "metadata": {},
     "outputs": [],
     "prompt_number": 9
    },
    {
     "cell_type": "code",
     "collapsed": false,
     "input": [
      "import csv\n",
      "import glob\n",
      "from collections import Counter\n",
      "from operator import itemgetter\n",
      "import dateutil.parser\n",
      "import matplotlib.pyplot as plt\n",
      "import pandas as pd\n",
      "\n",
      "\n",
      "def number_of_line_csv(csvfile):\n",
      "    with open(csvfile, 'r') as csv_reader:\n",
      "        reader = csv.reader(csv_reader)\n",
      "        row_count = sum(1 for row in reader)\n",
      "        return row_count\n",
      "\n",
      "\n",
      "def top_10_airports(csvfile):\n",
      "    airports_names_passengers_number_dict = dict()\n",
      "    with open(csvfile, 'r') as csv_reader:\n",
      "        data = csv.reader(csv_reader, delimiter='^', quotechar='\\'')\n",
      "        next(data, None)\n",
      "        for row in data:\n",
      "            try:\n",
      "                airports_name = row[12].strip()\n",
      "                number_of_passengers = row[34]\n",
      "                if (not airports_name in airports_names_passengers_number_dict):\n",
      "                    airports_names_passengers_number_dict[\n",
      "                        airports_name] = number_of_passengers\n",
      "                else:\n",
      "                    airports_names_passengers_number_dict[airports_name] = int(\n",
      "                        airports_names_passengers_number_dict[airports_name]) + int(number_of_passengers)\n",
      "            except:\n",
      "                pass\n",
      "\n",
      "        return Counter(airports_names_passengers_number_dict).most_common(10)\n",
      "\n",
      "\n",
      "def plot_monthly_number_of_searches(csvfile, dest=[]):\n",
      "    date_list = []\n",
      "    month_number_of_occ_dict = dict()\n",
      "    dest_month_dict = {d: {} for d in dest}\n",
      "    with open(csvfile, 'r') as csv_reader:\n",
      "        data = csv.reader(csv_reader, delimiter='^', quotechar='\\'')\n",
      "        next(data, None)\n",
      "        for row in data:\n",
      "            try:\n",
      "                date = row[0]\n",
      "                destination = row[6]\n",
      "                for d in dest:\n",
      "                    if(d == destination):\n",
      "                        t = dateutil.parser.parse(date, fuzzy=True)\n",
      "                        month = t.month\n",
      "                        month_number_of_occ_dict = dest_month_dict[d]\n",
      "                        if(not month in month_number_of_occ_dict):\n",
      "                            month_number_of_occ_dict[month] = 1\n",
      "                        else:\n",
      "                            month_number_of_occ_dict[month] = int(\n",
      "                                month_number_of_occ_dict[month]) + 1\n",
      "                        dest_month_dict[d] = month_number_of_occ_dict\n",
      "            except:\n",
      "                pass\n",
      "        for dest_plot in dest_month_dict.keys():\n",
      "            counter = Counter(dest_month_dict[dest_plot])\n",
      "            list_month_occ = sorted(counter.items(), key=itemgetter(0))\n",
      "            plt.plot([p[0] for p in list_month_occ], [p[1]\n",
      "                                                      for p in list_month_occ], label=dest_plot)\n",
      "        plt.title(\n",
      "            \"Searches for flights arriving at Malaga, Madrid or Barcelona\")\n",
      "        plt.legend(loc='upper right')\n",
      "        plt.show()\n",
      "\n",
      "\n",
      "def match_searches_bookings(searchesfile, bookingsfile):\n",
      "    with open(searchesfile, 'r') as csv_searches, open(bookingsfile, 'r') as csv_bookings:\n",
      "        searches = csv.reader(csv_searches, delimiter='^', quotechar='\\'')\n",
      "        bookings = csv.reader(csv_bookings, delimiter='^', quotechar='\\'')\n",
      "        next(searches, None)\n",
      "        next(bookings, None)\n",
      "        for row_searches in searches:\n",
      "            for row_bookings in bookings:\n",
      "                try:\n",
      "                    searches_origin = row_searches[5]\n",
      "                    searches_destination = row_searches[6]\n",
      "\n",
      "                    bookings_dep_port = row_bookings[9].strip()\n",
      "                    booking_arr_port = row_bookings[12].strip()\n",
      "                    # not sure about rhe row position !!!\n",
      "                    searches_office_id = row_searches[3]\n",
      "                    bookings_office_id = row_bookings[5]\n",
      "\n",
      "                    if(searches_origin == bookings_dep_port and\n",
      "                            searches_destination == booking_arr_port and\n",
      "                            searches_office_id == bookings_office_id):\n",
      "                        print searches_origin, searches_destination, searches_office_id, \"1\"\n",
      "                except:\n",
      "                    pass\n",
      "\n",
      "\n",
      "def top_10_airports_panda_version(csvfile):\n",
      "    df = pd.read_csv(\n",
      "        csvfile, sep='^', quotechar='\\'', header=0,\n",
      "        usecols=[12, 34], names=['arr_port', 'pax'], skipinitialspace=True)\n",
      "    grps = df.groupby(by=['arr_port'], sort=False).sum().sort(\n",
      "        ['pax'], ascending=False).head(10)\n",
      "    return grps\n",
      "\n",
      "\n",
      "def main():\n",
      "\n",
      "    # First exercise: count the number of lines in Python for each file\n",
      "    # (csv header included)\n",
      "    files_to_read = glob.glob(\"*.csv\")\n",
      "    for file_name in files_to_read:\n",
      "        print \"number of lines in : \", file_name, number_of_line_csv(file_name)\n",
      "\n",
      "    # Second exercise: top 10 arrival airports in the world in 2013 (using the bookings file)\n",
      "    #(csv header excluded) !!!One line is missing data!!!\n",
      "    print \"Top 10 arrival airports in the world in 2013 and their passengers number : \", top_10_airports(\"bookings.csv\")\n",
      "\n",
      "    # Third exercise: plot the monthly number of searches for flights arriving\n",
      "    # at Malaga, Madrid or Barcelona\n",
      "    plot_monthly_number_of_searches(\"searches.csv\", [\"AGP\", \"MAD\", \"BCN\"])\n",
      "\n",
      "    # Bonus exercise 1 : match searches with bookings\n",
      "    # work in progress\n",
      "    match_searches_bookings(\"searches.csv\", \"bookings.csv\")\n"
     ],
     "language": "python",
     "metadata": {},
     "outputs": [],
     "prompt_number": 11
    },
    {
     "cell_type": "code",
     "collapsed": false,
     "input": [
      "number_of_line_csv(\"searches.csv\")"
     ],
     "language": "python",
     "metadata": {},
     "outputs": [
      {
       "metadata": {},
       "output_type": "pyout",
       "prompt_number": 3,
       "text": [
        "20390199"
       ]
      }
     ],
     "prompt_number": 3
    },
    {
     "cell_type": "code",
     "collapsed": false,
     "input": [
      "number_of_line_csv(\"bookings.csv\")"
     ],
     "language": "python",
     "metadata": {},
     "outputs": [
      {
       "metadata": {},
       "output_type": "pyout",
       "prompt_number": 4,
       "text": [
        "10000011"
       ]
      }
     ],
     "prompt_number": 4
    },
    {
     "cell_type": "code",
     "collapsed": false,
     "input": [
      "top_10_airports(\"bookings.csv\")"
     ],
     "language": "python",
     "metadata": {},
     "outputs": [
      {
       "metadata": {},
       "output_type": "pyout",
       "prompt_number": 8,
       "text": [
        "[('LHR', 88809),\n",
        " ('MCO', 70930),\n",
        " ('LAX', 70530),\n",
        " ('LAS', 69630),\n",
        " ('JFK', 66270),\n",
        " ('CDG', 64490),\n",
        " ('BKK', 59460),\n",
        " ('MIA', 58150),\n",
        " ('SFO', 58000),\n",
        " ('DXB', 55590)]"
       ]
      }
     ],
     "prompt_number": 8
    },
    {
     "cell_type": "code",
     "collapsed": false,
     "input": [
      "plot_monthly_number_of_searches(\"searches.csv\", [\"AGP\", \"MAD\", \"BCN\"])"
     ],
     "language": "python",
     "metadata": {},
     "outputs": [],
     "prompt_number": 6
    },
    {
     "cell_type": "markdown",
     "metadata": {},
     "source": [
      "<img src=\"figure_1.png\">"
     ]
    },
    {
     "cell_type": "code",
     "collapsed": false,
     "input": [
      "top_10_airports_panda_version(\"bookings.csv\")"
     ],
     "language": "python",
     "metadata": {},
     "outputs": []
    }
   ],
   "metadata": {}
  }
 ]
}