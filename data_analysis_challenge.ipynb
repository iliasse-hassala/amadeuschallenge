{
 "metadata": {
  "name": "",
  "signature": "sha256:ff9d92d0baa1e1c110ab52b9652e0c13254aa61b59667217b44f6f1d79c8d5fa"
 },
 "nbformat": 3,
 "nbformat_minor": 0,
 "worksheets": [
  {
   "cells": [
    {
     "cell_type": "code",
     "collapsed": false,
     "input": [
      "%load data_analysis_challenge.py"
     ],
     "language": "python",
     "metadata": {},
     "outputs": [],
     "prompt_number": 13
    },
    {
     "cell_type": "code",
     "collapsed": false,
     "input": [
      "import csv\n",
      "import glob\n",
      "from collections import Counter\n",
      "from operator import itemgetter\n",
      "import dateutil.parser\n",
      "import matplotlib.pyplot as plt\n",
      "import pandas as pd\n",
      "from datetime import datetime\n",
      "\n",
      "\n",
      "def number_of_line_csv(csvfile):\n",
      "    with open(csvfile, 'r') as csv_reader:\n",
      "        reader = csv.reader(csv_reader)\n",
      "        row_count = sum(1 for row in reader)\n",
      "        return row_count\n",
      "\n",
      "\n",
      "def top_10_airports(csvfile):\n",
      "    airports_names_passengers_number_dict = dict()\n",
      "    with open(csvfile, 'r') as csv_reader:\n",
      "        data = csv.reader(csv_reader, delimiter='^', quotechar='\\'')\n",
      "        next(data, None)\n",
      "        for row in data:\n",
      "            try:\n",
      "                airports_name = row[12].strip()\n",
      "                number_of_passengers = row[34]\n",
      "                if (not airports_name in airports_names_passengers_number_dict):\n",
      "                    airports_names_passengers_number_dict[\n",
      "                        airports_name] = number_of_passengers\n",
      "                else:\n",
      "                    airports_names_passengers_number_dict[airports_name] = int(\n",
      "                        airports_names_passengers_number_dict[airports_name]) + int(number_of_passengers)\n",
      "            except:\n",
      "                pass\n",
      "\n",
      "        return Counter(airports_names_passengers_number_dict).most_common(10)\n",
      "\n",
      "\n",
      "def plot_monthly_number_of_searches(csvfile, dest=[]):\n",
      "    date_list = []\n",
      "    month_number_of_occ_dict = dict()\n",
      "    dest_month_dict = {d: {} for d in dest}\n",
      "    with open(csvfile, 'r') as csv_reader:\n",
      "        data = csv.reader(csv_reader, delimiter='^', quotechar='\\'')\n",
      "        next(data, None)\n",
      "        for row in data:\n",
      "            try:\n",
      "                date = row[0]\n",
      "                destination = row[6]\n",
      "                for d in dest:\n",
      "                    if(d == destination):\n",
      "                        t = dateutil.parser.parse(date, fuzzy=True)\n",
      "                        month = t.month\n",
      "                        month_number_of_occ_dict = dest_month_dict[d]\n",
      "                        if(not month in month_number_of_occ_dict):\n",
      "                            month_number_of_occ_dict[month] = 1\n",
      "                        else:\n",
      "                            month_number_of_occ_dict[month] = int(\n",
      "                                month_number_of_occ_dict[month]) + 1\n",
      "                        dest_month_dict[d] = month_number_of_occ_dict\n",
      "            except:\n",
      "                pass\n",
      "        for dest_plot in dest_month_dict.keys():\n",
      "            counter = Counter(dest_month_dict[dest_plot])\n",
      "            list_month_occ = sorted(counter.items(), key=itemgetter(0))\n",
      "            plt.plot([p[0] for p in list_month_occ], [p[1]\n",
      "                                                      for p in list_month_occ], label=dest_plot)\n",
      "        plt.title(\n",
      "            \"Searches for flights arriving at Malaga, Madrid or Barcelona\")\n",
      "        plt.legend(loc='upper right')\n",
      "        plt.show()\n",
      "\n",
      "\n",
      "def match_searches_bookings(searchesfile, bookingsfile):\n",
      "    with open(searchesfile, 'r') as csv_searches, open(bookingsfile, 'r') as csv_bookings:\n",
      "        searches = csv.reader(csv_searches, delimiter='^', quotechar='\\'')\n",
      "        bookings = csv.reader(csv_bookings, delimiter='^', quotechar='\\'')\n",
      "        next(searches, None)\n",
      "        next(bookings, None)\n",
      "        for row_searches in searches:\n",
      "            for row_bookings in bookings:\n",
      "                try:\n",
      "                    searches_origin = row_searches[5]\n",
      "                    searches_destination = row_searches[6]\n",
      "\n",
      "                    bookings_dep_port = row_bookings[9].strip()\n",
      "                    booking_arr_port = row_bookings[12].strip()\n",
      "                    # not sure about rhe row position !!!\n",
      "                    searches_office_id = row_searches[3]\n",
      "                    bookings_office_id = row_bookings[5]\n",
      "\n",
      "                    if(searches_origin == bookings_dep_port and\n",
      "                            searches_destination == booking_arr_port and\n",
      "                            searches_office_id == bookings_office_id):\n",
      "                        print searches_origin, searches_destination, searches_office_id, \"1\"\n",
      "                except:\n",
      "                    pass\n",
      "\n",
      "\n",
      "def top_10_airports_pandas_version(csvfile):\n",
      "    df = pd.read_csv(\n",
      "        csvfile, sep='^', quotechar='\\'', header=0,\n",
      "        usecols=[12, 34], names=['arr_port', 'pax'], skipinitialspace=True)\n",
      "    grps = df.groupby(by=['arr_port'], sort=False).sum().sort(\n",
      "        ['pax'], ascending=False).head(10)\n",
      "    return grps\n",
      "\n",
      "# Not yet done\n",
      "def plot_monthly_number_of_searches_pandas_version(csvfile, dest=[]):\n",
      "    parse = lambda x: datetime.strptime(x, '%Y-%m-%d')\n",
      "    df = pd.read_csv(csvfile, sep='^', quotechar='\\'', header=0, usecols=[0, 6], names=['Date', 'Destination'], skipinitialspace=True, index_col = 0, date_parser=parse)\n",
      "    grps = df.groupby(by=['Date'], sort=False)['Destination'].sum()\n",
      "\n",
      "\n",
      "\n",
      "\n",
      "def main():\n",
      "\n",
      "    # First exercise: count the number of lines in Python for each file\n",
      "    # (csv header included)\n",
      "    files_to_read = glob.glob(\"*.csv\")\n",
      "    for file_name in files_to_read:\n",
      "        print \"number of lines in : \", file_name, number_of_line_csv(file_name)\n",
      "\n",
      "    # Second exercise: top 10 arrival airports in the world in 2013 (using the bookings file)\n",
      "    #(csv header excluded) !!!One line is missing data!!!\n",
      "    print \"Top 10 arrival airports in the world in 2013 and their passengers number : \", top_10_airports(\"bookings.csv\")\n",
      "\n",
      "    # Third exercise: plot the monthly number of searches for flights arriving\n",
      "    # at Malaga, Madrid or Barcelona\n",
      "    plot_monthly_number_of_searches(\"searches.csv\", [\"AGP\", \"MAD\", \"BCN\"])\n",
      "\n",
      "    # Bonus exercise 1 : match searches with bookings\n",
      "    # work in progress\n",
      "    match_searches_bookings(\"searches.csv\", \"bookings.csv\")\n"
     ],
     "language": "python",
     "metadata": {},
     "outputs": [],
     "prompt_number": 14
    },
    {
     "cell_type": "code",
     "collapsed": false,
     "input": [
      "number_of_line_csv(\"searches.csv\")"
     ],
     "language": "python",
     "metadata": {},
     "outputs": [
      {
       "metadata": {},
       "output_type": "pyout",
       "prompt_number": 3,
       "text": [
        "20390199"
       ]
      }
     ],
     "prompt_number": 3
    },
    {
     "cell_type": "code",
     "collapsed": false,
     "input": [
      "number_of_line_csv(\"bookings.csv\")"
     ],
     "language": "python",
     "metadata": {},
     "outputs": [
      {
       "metadata": {},
       "output_type": "pyout",
       "prompt_number": 4,
       "text": [
        "10000011"
       ]
      }
     ],
     "prompt_number": 4
    },
    {
     "cell_type": "code",
     "collapsed": false,
     "input": [
      "top_10_airports(\"bookings.csv\")"
     ],
     "language": "python",
     "metadata": {},
     "outputs": [
      {
       "metadata": {},
       "output_type": "pyout",
       "prompt_number": 8,
       "text": [
        "[('LHR', 88809),\n",
        " ('MCO', 70930),\n",
        " ('LAX', 70530),\n",
        " ('LAS', 69630),\n",
        " ('JFK', 66270),\n",
        " ('CDG', 64490),\n",
        " ('BKK', 59460),\n",
        " ('MIA', 58150),\n",
        " ('SFO', 58000),\n",
        " ('DXB', 55590)]"
       ]
      }
     ],
     "prompt_number": 8
    },
    {
     "cell_type": "code",
     "collapsed": false,
     "input": [
      "plot_monthly_number_of_searches(\"searches.csv\", [\"AGP\", \"MAD\", \"BCN\"])"
     ],
     "language": "python",
     "metadata": {},
     "outputs": [],
     "prompt_number": 6
    },
    {
     "cell_type": "markdown",
     "metadata": {},
     "source": [
      "<img src=\"figure_1.png\">"
     ]
    },
    {
     "cell_type": "code",
     "collapsed": false,
     "input": [
      "top_10_airports_pandas_version(\"bookings.csv\")"
     ],
     "language": "python",
     "metadata": {},
     "outputs": [
      {
       "html": [
        "<div style=\"max-height:1000px;max-width:1500px;overflow:auto;\">\n",
        "<table border=\"1\" class=\"dataframe\">\n",
        "  <thead>\n",
        "    <tr style=\"text-align: right;\">\n",
        "      <th></th>\n",
        "      <th>pax</th>\n",
        "    </tr>\n",
        "    <tr>\n",
        "      <th>arr_port</th>\n",
        "      <th></th>\n",
        "    </tr>\n",
        "  </thead>\n",
        "  <tbody>\n",
        "    <tr>\n",
        "      <th>LHR     </th>\n",
        "      <td> 88809</td>\n",
        "    </tr>\n",
        "    <tr>\n",
        "      <th>MCO     </th>\n",
        "      <td> 70930</td>\n",
        "    </tr>\n",
        "    <tr>\n",
        "      <th>LAX     </th>\n",
        "      <td> 70530</td>\n",
        "    </tr>\n",
        "    <tr>\n",
        "      <th>LAS     </th>\n",
        "      <td> 69630</td>\n",
        "    </tr>\n",
        "    <tr>\n",
        "      <th>JFK     </th>\n",
        "      <td> 66270</td>\n",
        "    </tr>\n",
        "    <tr>\n",
        "      <th>CDG     </th>\n",
        "      <td> 64490</td>\n",
        "    </tr>\n",
        "    <tr>\n",
        "      <th>BKK     </th>\n",
        "      <td> 59460</td>\n",
        "    </tr>\n",
        "    <tr>\n",
        "      <th>MIA     </th>\n",
        "      <td> 58150</td>\n",
        "    </tr>\n",
        "    <tr>\n",
        "      <th>SFO     </th>\n",
        "      <td> 58000</td>\n",
        "    </tr>\n",
        "    <tr>\n",
        "      <th>DXB     </th>\n",
        "      <td> 55590</td>\n",
        "    </tr>\n",
        "  </tbody>\n",
        "</table>\n",
        "</div>"
       ],
       "metadata": {},
       "output_type": "pyout",
       "prompt_number": 19,
       "text": [
        "            pax\n",
        "arr_port       \n",
        "LHR       88809\n",
        "MCO       70930\n",
        "LAX       70530\n",
        "LAS       69630\n",
        "JFK       66270\n",
        "CDG       64490\n",
        "BKK       59460\n",
        "MIA       58150\n",
        "SFO       58000\n",
        "DXB       55590"
       ]
      }
     ],
     "prompt_number": 19
    }
   ],
   "metadata": {}
  }
 ]
}